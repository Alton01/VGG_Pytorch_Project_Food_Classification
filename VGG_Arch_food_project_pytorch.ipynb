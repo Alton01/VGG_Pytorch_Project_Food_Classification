{
  "nbformat": 4,
  "nbformat_minor": 0,
  "metadata": {
    "colab": {
      "provenance": [],
      "authorship_tag": "ABX9TyPR7GhtYpwh1g25luTgFE2h",
      "include_colab_link": true
    },
    "kernelspec": {
      "name": "python3",
      "display_name": "Python 3"
    },
    "language_info": {
      "name": "python"
    }
  },
  "cells": [
    {
      "cell_type": "markdown",
      "metadata": {
        "id": "view-in-github",
        "colab_type": "text"
      },
      "source": [
        "<a href=\"https://colab.research.google.com/github/Alton01/VGG_Pytorch_Project_Food_Classification/blob/main/VGG_Arch_food_project_pytorch.ipynb\" target=\"_parent\"><img src=\"https://colab.research.google.com/assets/colab-badge.svg\" alt=\"Open In Colab\"/></a>"
      ]
    },
    {
      "cell_type": "code",
      "execution_count": 1,
      "metadata": {
        "id": "l9CyMrzHNYvv"
      },
      "outputs": [],
      "source": [
        "# VGG Computer vision with PyTorch\n",
        "\n",
        "# 4 different classes of food.\n",
        "# Sushi\n",
        "# Cup Cakes\n",
        "# Macarons\n",
        "# Chocolate cake"
      ]
    },
    {
      "cell_type": "code",
      "source": [
        "\n",
        "import torch\n",
        "from torch import nn\n"
      ],
      "metadata": {
        "id": "4vFZ0s-_wKSi"
      },
      "execution_count": 2,
      "outputs": []
    },
    {
      "cell_type": "code",
      "source": [
        "# Device agnostic code\n",
        "device = \"cuda\" if torch.cuda.is_available() else \"cpu\"\n",
        "\n",
        "device"
      ],
      "metadata": {
        "colab": {
          "base_uri": "https://localhost:8080/",
          "height": 36
        },
        "id": "Soom4BwXw3MU",
        "outputId": "b37cdf9c-2c3a-432d-c3a7-cd472a01017a"
      },
      "execution_count": 4,
      "outputs": [
        {
          "output_type": "execute_result",
          "data": {
            "text/plain": [
              "'cpu'"
            ],
            "application/vnd.google.colaboratory.intrinsic+json": {
              "type": "string"
            }
          },
          "metadata": {},
          "execution_count": 4
        }
      ]
    },
    {
      "cell_type": "code",
      "source": [
        "# FOR GETTING DATA\n",
        "\n",
        "import requests # for making requests over internet\n",
        "import zipfile # for unzipping zipped files\n",
        "from pathlib import Path\n",
        "import os\n",
        "\n",
        "\n",
        "# set up data path\n",
        "\n",
        "data_path = Path(\"data/\")\n",
        "image_path = data_path / \"food_images\"\n",
        "\n",
        "# if image folder doesn't exist, download it and prepare it...\n",
        "\n",
        "if image_path.is_dir():\n",
        "  print(f\"{image_path} directory already exists. Skipping download...\")\n",
        "else:\n",
        "  print(f\"Image path - {image_path} does not exist. Creating one.....\")\n",
        "  image_path.mkdir(parents=True, exist_ok=True)\n",
        "\n",
        "# Download the data zip file and  writing it to data path\n",
        "with open(data_path / \"food_images.zip\", \"wb\") as f:\n",
        "  request = requests.get(\"https://programmingoceanacademy.s3.ap-southeast-1.amazonaws.com/image_classification_dataset.zip\")\n",
        "  print(f\"Downloading the food images data....\")\n",
        "  f.write(request.content)\n",
        "\n",
        "# Unzip the data\n",
        "with zipfile.ZipFile(data_path / \"food_images.zip\", \"r\") as zip_ref:\n",
        "  print(f\"Unzipping the food images data....\")\n",
        "  zip_ref.extractall(image_path)"
      ],
      "metadata": {
        "colab": {
          "base_uri": "https://localhost:8080/"
        },
        "id": "T3tH7dIFxAOp",
        "outputId": "e4ffecd0-5051-46f8-c95a-d5d345efd72c"
      },
      "execution_count": 5,
      "outputs": [
        {
          "output_type": "stream",
          "name": "stdout",
          "text": [
            "Image path - data/food_images does not exist. Creating one.....\n",
            "Downloading the food images data....\n",
            "Unzipping the food images data....\n"
          ]
        }
      ]
    },
    {
      "cell_type": "code",
      "source": [
        "os.remove(\"/content/data/food_images.zip\")"
      ],
      "metadata": {
        "id": "PpgpizSP2lE7"
      },
      "execution_count": 6,
      "outputs": []
    }
  ]
}